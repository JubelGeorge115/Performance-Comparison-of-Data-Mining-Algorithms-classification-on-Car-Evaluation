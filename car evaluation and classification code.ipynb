{
 "cells": [
  {
   "cell_type": "code",
   "execution_count": 1,
   "id": "c6ebe952",
   "metadata": {
    "execution": {
     "iopub.execute_input": "2023-06-13T13:08:34.068343Z",
     "iopub.status.busy": "2023-06-13T13:08:34.067959Z",
     "iopub.status.idle": "2023-06-13T13:08:36.407643Z",
     "shell.execute_reply": "2023-06-13T13:08:36.406155Z"
    },
    "papermill": {
     "duration": 2.361333,
     "end_time": "2023-06-13T13:08:36.410777",
     "exception": false,
     "start_time": "2023-06-13T13:08:34.049444",
     "status": "completed"
    },
    "tags": []
   },
   "outputs": [
    {
     "name": "stdout",
     "output_type": "stream",
     "text": [
      "/kaggle/input/car-evaluation-data-set/car_evaluation.csv\n"
     ]
    }
   ],
   "source": [
    "# This Python 3 environment comes with many helpful analytics libraries installed\n",
    "# It is defined by the kaggle/python Docker image: https://github.com/kaggle/docker-python\n",
    "# For example, here's several helpful packages to load\n",
    "\n",
    "import numpy as np # linear algebra\n",
    "import pandas as pd # data processing, CSV file I/O (e.g. pd.read_csv)\n",
    "import seaborn as sns\n",
    "import matplotlib.pyplot as plt\n",
    "\n",
    "from sklearn.model_selection import train_test_split\n",
    "from sklearn.ensemble import RandomForestClassifier\n",
    "from sklearn.metrics import *\n",
    "import warnings\n",
    "warnings.filterwarnings('ignore')\n",
    "# Input data files are available in the read-only \"../input/\" directory\n",
    "# For example, running this (by clicking run or pressing Shift+Enter) will list all files under the input directory\n",
    "\n",
    "import os\n",
    "for dirname, _, filenames in os.walk('/kaggle/input'):\n",
    "    for filename in filenames:\n",
    "        print(os.path.join(dirname, filename))\n",
    "\n",
    "# You can write up to 20GB to the current directory (/kaggle/working/) that gets preserved as output when you create a version using \"Save & Run All\" \n",
    "# You can also write temporary files to /kaggle/temp/, but they won't be saved outside of the current session"
   ]
  },
  {
   "cell_type": "code",
   "execution_count": 2,
   "id": "325272a9",
   "metadata": {
    "execution": {
     "iopub.execute_input": "2023-06-13T13:08:36.444294Z",
     "iopub.status.busy": "2023-06-13T13:08:36.443904Z",
     "iopub.status.idle": "2023-06-13T13:08:36.498405Z",
     "shell.execute_reply": "2023-06-13T13:08:36.497257Z"
    },
    "papermill": {
     "duration": 0.074105,
     "end_time": "2023-06-13T13:08:36.500999",
     "exception": false,
     "start_time": "2023-06-13T13:08:36.426894",
     "status": "completed"
    },
    "tags": []
   },
   "outputs": [
    {
     "data": {
      "text/html": [
       "<div>\n",
       "<style scoped>\n",
       "    .dataframe tbody tr th:only-of-type {\n",
       "        vertical-align: middle;\n",
       "    }\n",
       "\n",
       "    .dataframe tbody tr th {\n",
       "        vertical-align: top;\n",
       "    }\n",
       "\n",
       "    .dataframe thead th {\n",
       "        text-align: right;\n",
       "    }\n",
       "</style>\n",
       "<table border=\"1\" class=\"dataframe\">\n",
       "  <thead>\n",
       "    <tr style=\"text-align: right;\">\n",
       "      <th></th>\n",
       "      <th>vhigh</th>\n",
       "      <th>vhigh.1</th>\n",
       "      <th>2</th>\n",
       "      <th>2.1</th>\n",
       "      <th>small</th>\n",
       "      <th>low</th>\n",
       "      <th>unacc</th>\n",
       "    </tr>\n",
       "  </thead>\n",
       "  <tbody>\n",
       "    <tr>\n",
       "      <th>0</th>\n",
       "      <td>vhigh</td>\n",
       "      <td>vhigh</td>\n",
       "      <td>2</td>\n",
       "      <td>2</td>\n",
       "      <td>small</td>\n",
       "      <td>med</td>\n",
       "      <td>unacc</td>\n",
       "    </tr>\n",
       "    <tr>\n",
       "      <th>1</th>\n",
       "      <td>vhigh</td>\n",
       "      <td>vhigh</td>\n",
       "      <td>2</td>\n",
       "      <td>2</td>\n",
       "      <td>small</td>\n",
       "      <td>high</td>\n",
       "      <td>unacc</td>\n",
       "    </tr>\n",
       "    <tr>\n",
       "      <th>2</th>\n",
       "      <td>vhigh</td>\n",
       "      <td>vhigh</td>\n",
       "      <td>2</td>\n",
       "      <td>2</td>\n",
       "      <td>med</td>\n",
       "      <td>low</td>\n",
       "      <td>unacc</td>\n",
       "    </tr>\n",
       "    <tr>\n",
       "      <th>3</th>\n",
       "      <td>vhigh</td>\n",
       "      <td>vhigh</td>\n",
       "      <td>2</td>\n",
       "      <td>2</td>\n",
       "      <td>med</td>\n",
       "      <td>med</td>\n",
       "      <td>unacc</td>\n",
       "    </tr>\n",
       "    <tr>\n",
       "      <th>4</th>\n",
       "      <td>vhigh</td>\n",
       "      <td>vhigh</td>\n",
       "      <td>2</td>\n",
       "      <td>2</td>\n",
       "      <td>med</td>\n",
       "      <td>high</td>\n",
       "      <td>unacc</td>\n",
       "    </tr>\n",
       "  </tbody>\n",
       "</table>\n",
       "</div>"
      ],
      "text/plain": [
       "   vhigh vhigh.1  2 2.1  small   low  unacc\n",
       "0  vhigh   vhigh  2   2  small   med  unacc\n",
       "1  vhigh   vhigh  2   2  small  high  unacc\n",
       "2  vhigh   vhigh  2   2    med   low  unacc\n",
       "3  vhigh   vhigh  2   2    med   med  unacc\n",
       "4  vhigh   vhigh  2   2    med  high  unacc"
      ]
     },
     "execution_count": 2,
     "metadata": {},
     "output_type": "execute_result"
    }
   ],
   "source": [
    "df = pd.read_csv(\"/kaggle/input/car-evaluation-data-set/car_evaluation.csv\")\n",
    "df.head()"
   ]
  },
  {
   "cell_type": "code",
   "execution_count": 3,
   "id": "c7d720b8",
   "metadata": {
    "execution": {
     "iopub.execute_input": "2023-06-13T13:08:36.535235Z",
     "iopub.status.busy": "2023-06-13T13:08:36.534026Z",
     "iopub.status.idle": "2023-06-13T13:08:36.545743Z",
     "shell.execute_reply": "2023-06-13T13:08:36.544628Z"
    },
    "papermill": {
     "duration": 0.031335,
     "end_time": "2023-06-13T13:08:36.548107",
     "exception": false,
     "start_time": "2023-06-13T13:08:36.516772",
     "status": "completed"
    },
    "tags": []
   },
   "outputs": [
    {
     "data": {
      "text/plain": [
       "Index(['buying price', 'maintenance cost', 'number of doors',\n",
       "       'number of persons', 'lug_boot', 'safety', 'unacc'],\n",
       "      dtype='object')"
      ]
     },
     "execution_count": 3,
     "metadata": {},
     "output_type": "execute_result"
    }
   ],
   "source": [
    "df.rename(columns={'low':'safety',\"small\":\"lug_boot\",\"2.1\":\"number of persons\",\"2\":\"number of doors\",\"vhigh\":\"buying price\",\"vhigh.1\":\"maintenance cost\"},inplace=True)\n",
    "df.columns\n"
   ]
  },
  {
   "cell_type": "code",
   "execution_count": 4,
   "id": "9b487a14",
   "metadata": {
    "execution": {
     "iopub.execute_input": "2023-06-13T13:08:36.582868Z",
     "iopub.status.busy": "2023-06-13T13:08:36.581800Z",
     "iopub.status.idle": "2023-06-13T13:08:36.590282Z",
     "shell.execute_reply": "2023-06-13T13:08:36.589072Z"
    },
    "papermill": {
     "duration": 0.028616,
     "end_time": "2023-06-13T13:08:36.592867",
     "exception": false,
     "start_time": "2023-06-13T13:08:36.564251",
     "status": "completed"
    },
    "tags": []
   },
   "outputs": [
    {
     "data": {
      "text/plain": [
       "(1727, 7)"
      ]
     },
     "execution_count": 4,
     "metadata": {},
     "output_type": "execute_result"
    }
   ],
   "source": [
    "df.shape"
   ]
  },
  {
   "cell_type": "code",
   "execution_count": 5,
   "id": "bc6490b7",
   "metadata": {
    "execution": {
     "iopub.execute_input": "2023-06-13T13:08:36.629011Z",
     "iopub.status.busy": "2023-06-13T13:08:36.628610Z",
     "iopub.status.idle": "2023-06-13T13:08:36.660923Z",
     "shell.execute_reply": "2023-06-13T13:08:36.658740Z"
    },
    "papermill": {
     "duration": 0.0536,
     "end_time": "2023-06-13T13:08:36.663566",
     "exception": false,
     "start_time": "2023-06-13T13:08:36.609966",
     "status": "completed"
    },
    "tags": []
   },
   "outputs": [
    {
     "name": "stdout",
     "output_type": "stream",
     "text": [
      "<class 'pandas.core.frame.DataFrame'>\n",
      "RangeIndex: 1727 entries, 0 to 1726\n",
      "Data columns (total 7 columns):\n",
      " #   Column             Non-Null Count  Dtype \n",
      "---  ------             --------------  ----- \n",
      " 0   buying price       1727 non-null   object\n",
      " 1   maintenance cost   1727 non-null   object\n",
      " 2   number of doors    1727 non-null   object\n",
      " 3   number of persons  1727 non-null   object\n",
      " 4   lug_boot           1727 non-null   object\n",
      " 5   safety             1727 non-null   object\n",
      " 6   unacc              1727 non-null   object\n",
      "dtypes: object(7)\n",
      "memory usage: 94.6+ KB\n"
     ]
    }
   ],
   "source": [
    "df.info()"
   ]
  },
  {
   "cell_type": "code",
   "execution_count": 6,
   "id": "9672435d",
   "metadata": {
    "execution": {
     "iopub.execute_input": "2023-06-13T13:08:36.698714Z",
     "iopub.status.busy": "2023-06-13T13:08:36.698217Z",
     "iopub.status.idle": "2023-06-13T13:08:36.714116Z",
     "shell.execute_reply": "2023-06-13T13:08:36.712850Z"
    },
    "papermill": {
     "duration": 0.036705,
     "end_time": "2023-06-13T13:08:36.716730",
     "exception": false,
     "start_time": "2023-06-13T13:08:36.680025",
     "status": "completed"
    },
    "tags": []
   },
   "outputs": [
    {
     "data": {
      "text/html": [
       "<div>\n",
       "<style scoped>\n",
       "    .dataframe tbody tr th:only-of-type {\n",
       "        vertical-align: middle;\n",
       "    }\n",
       "\n",
       "    .dataframe tbody tr th {\n",
       "        vertical-align: top;\n",
       "    }\n",
       "\n",
       "    .dataframe thead th {\n",
       "        text-align: right;\n",
       "    }\n",
       "</style>\n",
       "<table border=\"1\" class=\"dataframe\">\n",
       "  <thead>\n",
       "    <tr style=\"text-align: right;\">\n",
       "      <th></th>\n",
       "      <th>buying price</th>\n",
       "      <th>maintenance cost</th>\n",
       "      <th>number of doors</th>\n",
       "      <th>number of persons</th>\n",
       "      <th>lug_boot</th>\n",
       "      <th>safety</th>\n",
       "      <th>unacc</th>\n",
       "    </tr>\n",
       "  </thead>\n",
       "  <tbody>\n",
       "    <tr>\n",
       "      <th>0</th>\n",
       "      <td>vhigh</td>\n",
       "      <td>vhigh</td>\n",
       "      <td>2</td>\n",
       "      <td>2</td>\n",
       "      <td>small</td>\n",
       "      <td>med</td>\n",
       "      <td>unacc</td>\n",
       "    </tr>\n",
       "    <tr>\n",
       "      <th>1</th>\n",
       "      <td>vhigh</td>\n",
       "      <td>vhigh</td>\n",
       "      <td>2</td>\n",
       "      <td>2</td>\n",
       "      <td>small</td>\n",
       "      <td>high</td>\n",
       "      <td>unacc</td>\n",
       "    </tr>\n",
       "    <tr>\n",
       "      <th>2</th>\n",
       "      <td>vhigh</td>\n",
       "      <td>vhigh</td>\n",
       "      <td>2</td>\n",
       "      <td>2</td>\n",
       "      <td>med</td>\n",
       "      <td>low</td>\n",
       "      <td>unacc</td>\n",
       "    </tr>\n",
       "    <tr>\n",
       "      <th>3</th>\n",
       "      <td>vhigh</td>\n",
       "      <td>vhigh</td>\n",
       "      <td>2</td>\n",
       "      <td>2</td>\n",
       "      <td>med</td>\n",
       "      <td>med</td>\n",
       "      <td>unacc</td>\n",
       "    </tr>\n",
       "    <tr>\n",
       "      <th>4</th>\n",
       "      <td>vhigh</td>\n",
       "      <td>vhigh</td>\n",
       "      <td>2</td>\n",
       "      <td>2</td>\n",
       "      <td>med</td>\n",
       "      <td>high</td>\n",
       "      <td>unacc</td>\n",
       "    </tr>\n",
       "  </tbody>\n",
       "</table>\n",
       "</div>"
      ],
      "text/plain": [
       "  buying price maintenance cost number of doors number of persons lug_boot  \\\n",
       "0        vhigh            vhigh               2                 2    small   \n",
       "1        vhigh            vhigh               2                 2    small   \n",
       "2        vhigh            vhigh               2                 2      med   \n",
       "3        vhigh            vhigh               2                 2      med   \n",
       "4        vhigh            vhigh               2                 2      med   \n",
       "\n",
       "  safety  unacc  \n",
       "0    med  unacc  \n",
       "1   high  unacc  \n",
       "2    low  unacc  \n",
       "3    med  unacc  \n",
       "4   high  unacc  "
      ]
     },
     "execution_count": 6,
     "metadata": {},
     "output_type": "execute_result"
    }
   ],
   "source": [
    "df.head()"
   ]
  },
  {
   "cell_type": "code",
   "execution_count": 7,
   "id": "9b9bad5b",
   "metadata": {
    "execution": {
     "iopub.execute_input": "2023-06-13T13:08:36.752174Z",
     "iopub.status.busy": "2023-06-13T13:08:36.751708Z",
     "iopub.status.idle": "2023-06-13T13:08:36.766077Z",
     "shell.execute_reply": "2023-06-13T13:08:36.764879Z"
    },
    "papermill": {
     "duration": 0.035188,
     "end_time": "2023-06-13T13:08:36.768747",
     "exception": false,
     "start_time": "2023-06-13T13:08:36.733559",
     "status": "completed"
    },
    "tags": []
   },
   "outputs": [
    {
     "data": {
      "text/plain": [
       "buying price         0\n",
       "maintenance cost     0\n",
       "number of doors      0\n",
       "number of persons    0\n",
       "lug_boot             0\n",
       "safety               0\n",
       "unacc                0\n",
       "dtype: int64"
      ]
     },
     "execution_count": 7,
     "metadata": {},
     "output_type": "execute_result"
    }
   ],
   "source": [
    "df.isnull().sum()"
   ]
  },
  {
   "cell_type": "code",
   "execution_count": 8,
   "id": "17a49935",
   "metadata": {
    "execution": {
     "iopub.execute_input": "2023-06-13T13:08:36.805200Z",
     "iopub.status.busy": "2023-06-13T13:08:36.804774Z",
     "iopub.status.idle": "2023-06-13T13:08:36.813821Z",
     "shell.execute_reply": "2023-06-13T13:08:36.812792Z"
    },
    "papermill": {
     "duration": 0.030476,
     "end_time": "2023-06-13T13:08:36.816204",
     "exception": false,
     "start_time": "2023-06-13T13:08:36.785728",
     "status": "completed"
    },
    "tags": []
   },
   "outputs": [
    {
     "data": {
      "text/plain": [
       "buying price         object\n",
       "maintenance cost     object\n",
       "number of doors      object\n",
       "number of persons    object\n",
       "lug_boot             object\n",
       "safety               object\n",
       "unacc                object\n",
       "dtype: object"
      ]
     },
     "execution_count": 8,
     "metadata": {},
     "output_type": "execute_result"
    }
   ],
   "source": [
    "df.dtypes"
   ]
  },
  {
   "cell_type": "code",
   "execution_count": 9,
   "id": "6815bdc0",
   "metadata": {
    "execution": {
     "iopub.execute_input": "2023-06-13T13:08:36.853310Z",
     "iopub.status.busy": "2023-06-13T13:08:36.852907Z",
     "iopub.status.idle": "2023-06-13T13:08:36.885180Z",
     "shell.execute_reply": "2023-06-13T13:08:36.884106Z"
    },
    "papermill": {
     "duration": 0.053312,
     "end_time": "2023-06-13T13:08:36.887572",
     "exception": false,
     "start_time": "2023-06-13T13:08:36.834260",
     "status": "completed"
    },
    "tags": []
   },
   "outputs": [
    {
     "data": {
      "text/html": [
       "<div>\n",
       "<style scoped>\n",
       "    .dataframe tbody tr th:only-of-type {\n",
       "        vertical-align: middle;\n",
       "    }\n",
       "\n",
       "    .dataframe tbody tr th {\n",
       "        vertical-align: top;\n",
       "    }\n",
       "\n",
       "    .dataframe thead th {\n",
       "        text-align: right;\n",
       "    }\n",
       "</style>\n",
       "<table border=\"1\" class=\"dataframe\">\n",
       "  <thead>\n",
       "    <tr style=\"text-align: right;\">\n",
       "      <th></th>\n",
       "      <th>buying price</th>\n",
       "      <th>maintenance cost</th>\n",
       "      <th>number of doors</th>\n",
       "      <th>number of persons</th>\n",
       "      <th>lug_boot</th>\n",
       "      <th>safety</th>\n",
       "      <th>unacc</th>\n",
       "    </tr>\n",
       "  </thead>\n",
       "  <tbody>\n",
       "    <tr>\n",
       "      <th>count</th>\n",
       "      <td>1727</td>\n",
       "      <td>1727</td>\n",
       "      <td>1727</td>\n",
       "      <td>1727</td>\n",
       "      <td>1727</td>\n",
       "      <td>1727</td>\n",
       "      <td>1727</td>\n",
       "    </tr>\n",
       "    <tr>\n",
       "      <th>unique</th>\n",
       "      <td>4</td>\n",
       "      <td>4</td>\n",
       "      <td>4</td>\n",
       "      <td>3</td>\n",
       "      <td>3</td>\n",
       "      <td>3</td>\n",
       "      <td>4</td>\n",
       "    </tr>\n",
       "    <tr>\n",
       "      <th>top</th>\n",
       "      <td>high</td>\n",
       "      <td>high</td>\n",
       "      <td>3</td>\n",
       "      <td>4</td>\n",
       "      <td>med</td>\n",
       "      <td>med</td>\n",
       "      <td>unacc</td>\n",
       "    </tr>\n",
       "    <tr>\n",
       "      <th>freq</th>\n",
       "      <td>432</td>\n",
       "      <td>432</td>\n",
       "      <td>432</td>\n",
       "      <td>576</td>\n",
       "      <td>576</td>\n",
       "      <td>576</td>\n",
       "      <td>1209</td>\n",
       "    </tr>\n",
       "  </tbody>\n",
       "</table>\n",
       "</div>"
      ],
      "text/plain": [
       "       buying price maintenance cost number of doors number of persons  \\\n",
       "count          1727             1727            1727              1727   \n",
       "unique            4                4               4                 3   \n",
       "top            high             high               3                 4   \n",
       "freq            432              432             432               576   \n",
       "\n",
       "       lug_boot safety  unacc  \n",
       "count      1727   1727   1727  \n",
       "unique        3      3      4  \n",
       "top         med    med  unacc  \n",
       "freq        576    576   1209  "
      ]
     },
     "execution_count": 9,
     "metadata": {},
     "output_type": "execute_result"
    }
   ],
   "source": [
    "df.describe()"
   ]
  },
  {
   "cell_type": "code",
   "execution_count": 10,
   "id": "0131b7f5",
   "metadata": {
    "execution": {
     "iopub.execute_input": "2023-06-13T13:08:36.924313Z",
     "iopub.status.busy": "2023-06-13T13:08:36.923902Z",
     "iopub.status.idle": "2023-06-13T13:08:36.931882Z",
     "shell.execute_reply": "2023-06-13T13:08:36.930445Z"
    },
    "papermill": {
     "duration": 0.02916,
     "end_time": "2023-06-13T13:08:36.934741",
     "exception": false,
     "start_time": "2023-06-13T13:08:36.905581",
     "status": "completed"
    },
    "tags": []
   },
   "outputs": [
    {
     "data": {
      "text/plain": [
       "['buying price',\n",
       " 'maintenance cost',\n",
       " 'number of doors',\n",
       " 'number of persons',\n",
       " 'lug_boot',\n",
       " 'safety',\n",
       " 'unacc']"
      ]
     },
     "execution_count": 10,
     "metadata": {},
     "output_type": "execute_result"
    }
   ],
   "source": [
    "li = list(df.columns)\n",
    "li"
   ]
  },
  {
   "cell_type": "markdown",
   "id": "8e41971c",
   "metadata": {
    "papermill": {
     "duration": 0.017195,
     "end_time": "2023-06-13T13:08:36.969643",
     "exception": false,
     "start_time": "2023-06-13T13:08:36.952448",
     "status": "completed"
    },
    "tags": []
   },
   "source": [
    "**label encoding**"
   ]
  },
  {
   "cell_type": "code",
   "execution_count": 11,
   "id": "c6e048af",
   "metadata": {
    "execution": {
     "iopub.execute_input": "2023-06-13T13:08:37.007052Z",
     "iopub.status.busy": "2023-06-13T13:08:37.006420Z",
     "iopub.status.idle": "2023-06-13T13:08:37.019359Z",
     "shell.execute_reply": "2023-06-13T13:08:37.017947Z"
    },
    "papermill": {
     "duration": 0.035164,
     "end_time": "2023-06-13T13:08:37.022456",
     "exception": false,
     "start_time": "2023-06-13T13:08:36.987292",
     "status": "completed"
    },
    "tags": []
   },
   "outputs": [],
   "source": [
    "from sklearn.preprocessing import LabelEncoder\n",
    "labelencoder = LabelEncoder()\n",
    "for i in li:\n",
    "    df[i] = labelencoder.fit_transform(df[i])"
   ]
  },
  {
   "cell_type": "code",
   "execution_count": 12,
   "id": "2f7b63de",
   "metadata": {
    "execution": {
     "iopub.execute_input": "2023-06-13T13:08:37.060348Z",
     "iopub.status.busy": "2023-06-13T13:08:37.059922Z",
     "iopub.status.idle": "2023-06-13T13:08:37.072756Z",
     "shell.execute_reply": "2023-06-13T13:08:37.071575Z"
    },
    "papermill": {
     "duration": 0.034463,
     "end_time": "2023-06-13T13:08:37.075171",
     "exception": false,
     "start_time": "2023-06-13T13:08:37.040708",
     "status": "completed"
    },
    "tags": []
   },
   "outputs": [
    {
     "data": {
      "text/html": [
       "<div>\n",
       "<style scoped>\n",
       "    .dataframe tbody tr th:only-of-type {\n",
       "        vertical-align: middle;\n",
       "    }\n",
       "\n",
       "    .dataframe tbody tr th {\n",
       "        vertical-align: top;\n",
       "    }\n",
       "\n",
       "    .dataframe thead th {\n",
       "        text-align: right;\n",
       "    }\n",
       "</style>\n",
       "<table border=\"1\" class=\"dataframe\">\n",
       "  <thead>\n",
       "    <tr style=\"text-align: right;\">\n",
       "      <th></th>\n",
       "      <th>buying price</th>\n",
       "      <th>maintenance cost</th>\n",
       "      <th>number of doors</th>\n",
       "      <th>number of persons</th>\n",
       "      <th>lug_boot</th>\n",
       "      <th>safety</th>\n",
       "      <th>unacc</th>\n",
       "    </tr>\n",
       "  </thead>\n",
       "  <tbody>\n",
       "    <tr>\n",
       "      <th>0</th>\n",
       "      <td>3</td>\n",
       "      <td>3</td>\n",
       "      <td>0</td>\n",
       "      <td>0</td>\n",
       "      <td>2</td>\n",
       "      <td>2</td>\n",
       "      <td>2</td>\n",
       "    </tr>\n",
       "    <tr>\n",
       "      <th>1</th>\n",
       "      <td>3</td>\n",
       "      <td>3</td>\n",
       "      <td>0</td>\n",
       "      <td>0</td>\n",
       "      <td>2</td>\n",
       "      <td>0</td>\n",
       "      <td>2</td>\n",
       "    </tr>\n",
       "    <tr>\n",
       "      <th>2</th>\n",
       "      <td>3</td>\n",
       "      <td>3</td>\n",
       "      <td>0</td>\n",
       "      <td>0</td>\n",
       "      <td>1</td>\n",
       "      <td>1</td>\n",
       "      <td>2</td>\n",
       "    </tr>\n",
       "    <tr>\n",
       "      <th>3</th>\n",
       "      <td>3</td>\n",
       "      <td>3</td>\n",
       "      <td>0</td>\n",
       "      <td>0</td>\n",
       "      <td>1</td>\n",
       "      <td>2</td>\n",
       "      <td>2</td>\n",
       "    </tr>\n",
       "    <tr>\n",
       "      <th>4</th>\n",
       "      <td>3</td>\n",
       "      <td>3</td>\n",
       "      <td>0</td>\n",
       "      <td>0</td>\n",
       "      <td>1</td>\n",
       "      <td>0</td>\n",
       "      <td>2</td>\n",
       "    </tr>\n",
       "  </tbody>\n",
       "</table>\n",
       "</div>"
      ],
      "text/plain": [
       "   buying price  maintenance cost  number of doors  number of persons  \\\n",
       "0             3                 3                0                  0   \n",
       "1             3                 3                0                  0   \n",
       "2             3                 3                0                  0   \n",
       "3             3                 3                0                  0   \n",
       "4             3                 3                0                  0   \n",
       "\n",
       "   lug_boot  safety  unacc  \n",
       "0         2       2      2  \n",
       "1         2       0      2  \n",
       "2         1       1      2  \n",
       "3         1       2      2  \n",
       "4         1       0      2  "
      ]
     },
     "execution_count": 12,
     "metadata": {},
     "output_type": "execute_result"
    }
   ],
   "source": [
    "df.head()"
   ]
  },
  {
   "cell_type": "markdown",
   "id": "879c7eff",
   "metadata": {
    "papermill": {
     "duration": 0.017365,
     "end_time": "2023-06-13T13:08:37.110414",
     "exception": false,
     "start_time": "2023-06-13T13:08:37.093049",
     "status": "completed"
    },
    "tags": []
   },
   "source": [
    "**split the data** "
   ]
  },
  {
   "cell_type": "code",
   "execution_count": 13,
   "id": "de12517b",
   "metadata": {
    "execution": {
     "iopub.execute_input": "2023-06-13T13:08:37.148158Z",
     "iopub.status.busy": "2023-06-13T13:08:37.147739Z",
     "iopub.status.idle": "2023-06-13T13:08:37.156324Z",
     "shell.execute_reply": "2023-06-13T13:08:37.154574Z"
    },
    "papermill": {
     "duration": 0.03035,
     "end_time": "2023-06-13T13:08:37.158742",
     "exception": false,
     "start_time": "2023-06-13T13:08:37.128392",
     "status": "completed"
    },
    "tags": []
   },
   "outputs": [],
   "source": [
    "x = df.iloc[:,:-1]\n",
    "y = df.iloc[:,-1]"
   ]
  },
  {
   "cell_type": "code",
   "execution_count": 14,
   "id": "1079dcb8",
   "metadata": {
    "execution": {
     "iopub.execute_input": "2023-06-13T13:08:37.196632Z",
     "iopub.status.busy": "2023-06-13T13:08:37.196162Z",
     "iopub.status.idle": "2023-06-13T13:08:37.208953Z",
     "shell.execute_reply": "2023-06-13T13:08:37.207570Z"
    },
    "papermill": {
     "duration": 0.034563,
     "end_time": "2023-06-13T13:08:37.211421",
     "exception": false,
     "start_time": "2023-06-13T13:08:37.176858",
     "status": "completed"
    },
    "tags": []
   },
   "outputs": [
    {
     "data": {
      "text/html": [
       "<div>\n",
       "<style scoped>\n",
       "    .dataframe tbody tr th:only-of-type {\n",
       "        vertical-align: middle;\n",
       "    }\n",
       "\n",
       "    .dataframe tbody tr th {\n",
       "        vertical-align: top;\n",
       "    }\n",
       "\n",
       "    .dataframe thead th {\n",
       "        text-align: right;\n",
       "    }\n",
       "</style>\n",
       "<table border=\"1\" class=\"dataframe\">\n",
       "  <thead>\n",
       "    <tr style=\"text-align: right;\">\n",
       "      <th></th>\n",
       "      <th>buying price</th>\n",
       "      <th>maintenance cost</th>\n",
       "      <th>number of doors</th>\n",
       "      <th>number of persons</th>\n",
       "      <th>lug_boot</th>\n",
       "      <th>safety</th>\n",
       "    </tr>\n",
       "  </thead>\n",
       "  <tbody>\n",
       "    <tr>\n",
       "      <th>0</th>\n",
       "      <td>3</td>\n",
       "      <td>3</td>\n",
       "      <td>0</td>\n",
       "      <td>0</td>\n",
       "      <td>2</td>\n",
       "      <td>2</td>\n",
       "    </tr>\n",
       "    <tr>\n",
       "      <th>1</th>\n",
       "      <td>3</td>\n",
       "      <td>3</td>\n",
       "      <td>0</td>\n",
       "      <td>0</td>\n",
       "      <td>2</td>\n",
       "      <td>0</td>\n",
       "    </tr>\n",
       "    <tr>\n",
       "      <th>2</th>\n",
       "      <td>3</td>\n",
       "      <td>3</td>\n",
       "      <td>0</td>\n",
       "      <td>0</td>\n",
       "      <td>1</td>\n",
       "      <td>1</td>\n",
       "    </tr>\n",
       "    <tr>\n",
       "      <th>3</th>\n",
       "      <td>3</td>\n",
       "      <td>3</td>\n",
       "      <td>0</td>\n",
       "      <td>0</td>\n",
       "      <td>1</td>\n",
       "      <td>2</td>\n",
       "    </tr>\n",
       "    <tr>\n",
       "      <th>4</th>\n",
       "      <td>3</td>\n",
       "      <td>3</td>\n",
       "      <td>0</td>\n",
       "      <td>0</td>\n",
       "      <td>1</td>\n",
       "      <td>0</td>\n",
       "    </tr>\n",
       "  </tbody>\n",
       "</table>\n",
       "</div>"
      ],
      "text/plain": [
       "   buying price  maintenance cost  number of doors  number of persons  \\\n",
       "0             3                 3                0                  0   \n",
       "1             3                 3                0                  0   \n",
       "2             3                 3                0                  0   \n",
       "3             3                 3                0                  0   \n",
       "4             3                 3                0                  0   \n",
       "\n",
       "   lug_boot  safety  \n",
       "0         2       2  \n",
       "1         2       0  \n",
       "2         1       1  \n",
       "3         1       2  \n",
       "4         1       0  "
      ]
     },
     "execution_count": 14,
     "metadata": {},
     "output_type": "execute_result"
    }
   ],
   "source": [
    "x.head()"
   ]
  },
  {
   "cell_type": "code",
   "execution_count": 15,
   "id": "7e8280fd",
   "metadata": {
    "execution": {
     "iopub.execute_input": "2023-06-13T13:08:37.248763Z",
     "iopub.status.busy": "2023-06-13T13:08:37.248348Z",
     "iopub.status.idle": "2023-06-13T13:08:37.256845Z",
     "shell.execute_reply": "2023-06-13T13:08:37.255748Z"
    },
    "papermill": {
     "duration": 0.030103,
     "end_time": "2023-06-13T13:08:37.259288",
     "exception": false,
     "start_time": "2023-06-13T13:08:37.229185",
     "status": "completed"
    },
    "tags": []
   },
   "outputs": [
    {
     "data": {
      "text/plain": [
       "0    2\n",
       "1    2\n",
       "2    2\n",
       "3    2\n",
       "4    2\n",
       "Name: unacc, dtype: int64"
      ]
     },
     "execution_count": 15,
     "metadata": {},
     "output_type": "execute_result"
    }
   ],
   "source": [
    "y.head()"
   ]
  },
  {
   "cell_type": "code",
   "execution_count": 16,
   "id": "f38e12ac",
   "metadata": {
    "execution": {
     "iopub.execute_input": "2023-06-13T13:08:37.297157Z",
     "iopub.status.busy": "2023-06-13T13:08:37.296706Z",
     "iopub.status.idle": "2023-06-13T13:08:37.305386Z",
     "shell.execute_reply": "2023-06-13T13:08:37.304186Z"
    },
    "papermill": {
     "duration": 0.031064,
     "end_time": "2023-06-13T13:08:37.307985",
     "exception": false,
     "start_time": "2023-06-13T13:08:37.276921",
     "status": "completed"
    },
    "tags": []
   },
   "outputs": [],
   "source": [
    "x_train,x_test,y_train,y_test = train_test_split(x,y,test_size = 0.30 ,random_state =1)\n"
   ]
  },
  {
   "cell_type": "markdown",
   "id": "db0f6acc",
   "metadata": {
    "papermill": {
     "duration": 0.017252,
     "end_time": "2023-06-13T13:08:37.342822",
     "exception": false,
     "start_time": "2023-06-13T13:08:37.325570",
     "status": "completed"
    },
    "tags": []
   },
   "source": [
    "**Logistic Regression**"
   ]
  },
  {
   "cell_type": "code",
   "execution_count": 17,
   "id": "03f78191",
   "metadata": {
    "execution": {
     "iopub.execute_input": "2023-06-13T13:08:37.380380Z",
     "iopub.status.busy": "2023-06-13T13:08:37.379894Z",
     "iopub.status.idle": "2023-06-13T13:08:37.436429Z",
     "shell.execute_reply": "2023-06-13T13:08:37.435451Z"
    },
    "papermill": {
     "duration": 0.078668,
     "end_time": "2023-06-13T13:08:37.439064",
     "exception": false,
     "start_time": "2023-06-13T13:08:37.360396",
     "status": "completed"
    },
    "tags": []
   },
   "outputs": [],
   "source": [
    "from sklearn.linear_model import LogisticRegression\n",
    "lr = LogisticRegression()\n",
    "lr.fit(x_train,y_train)\n",
    "y_pred1 = lr.predict(x_test)"
   ]
  },
  {
   "cell_type": "code",
   "execution_count": 18,
   "id": "2e5fc30f",
   "metadata": {
    "execution": {
     "iopub.execute_input": "2023-06-13T13:08:37.478464Z",
     "iopub.status.busy": "2023-06-13T13:08:37.477353Z",
     "iopub.status.idle": "2023-06-13T13:08:37.877099Z",
     "shell.execute_reply": "2023-06-13T13:08:37.875973Z"
    },
    "papermill": {
     "duration": 0.422491,
     "end_time": "2023-06-13T13:08:37.879622",
     "exception": false,
     "start_time": "2023-06-13T13:08:37.457131",
     "status": "completed"
    },
    "tags": []
   },
   "outputs": [
    {
     "data": {
      "image/png": "[encoded data removed]",
      "text/plain": [
       "<Figure size 640x480 with 2 Axes>"
      ]
     },
     "metadata": {},
     "output_type": "display_data"
    }
   ],
   "source": [
    "plt.title('Logistic Regression Confusion Matrix')\n",
    "sns.heatmap(confusion_matrix(y_test,y_pred1),annot=True,fmt='g')\n",
    "plt.show()"
   ]
  },
  {
   "cell_type": "code",
   "execution_count": 19,
   "id": "2d1eff44",
   "metadata": {
    "execution": {
     "iopub.execute_input": "2023-06-13T13:08:37.920022Z",
     "iopub.status.busy": "2023-06-13T13:08:37.919608Z",
     "iopub.status.idle": "2023-06-13T13:08:37.928507Z",
     "shell.execute_reply": "2023-06-13T13:08:37.926951Z"
    },
    "papermill": {
     "duration": 0.031357,
     "end_time": "2023-06-13T13:08:37.930812",
     "exception": false,
     "start_time": "2023-06-13T13:08:37.899455",
     "status": "completed"
    },
    "tags": []
   },
   "outputs": [
    {
     "name": "stdout",
     "output_type": "stream",
     "text": [
      "Logistic Regression accuracy is : 66.86 %\n"
     ]
    }
   ],
   "source": [
    "print(f\"Logistic Regression accuracy is : {round(accuracy_score(y_test,y_pred1)*100,2)} %\")"
   ]
  },
  {
   "cell_type": "code",
   "execution_count": 20,
   "id": "441e426d",
   "metadata": {
    "execution": {
     "iopub.execute_input": "2023-06-13T13:08:37.971158Z",
     "iopub.status.busy": "2023-06-13T13:08:37.970287Z",
     "iopub.status.idle": "2023-06-13T13:08:37.984987Z",
     "shell.execute_reply": "2023-06-13T13:08:37.983559Z"
    },
    "papermill": {
     "duration": 0.037879,
     "end_time": "2023-06-13T13:08:37.987871",
     "exception": false,
     "start_time": "2023-06-13T13:08:37.949992",
     "status": "completed"
    },
    "tags": []
   },
   "outputs": [
    {
     "name": "stdout",
     "output_type": "stream",
     "text": [
      "              precision    recall  f1-score   support\n",
      "\n",
      "           0       0.32      0.22      0.26       115\n",
      "           1       0.00      0.00      0.00        21\n",
      "           2       0.73      0.90      0.81       356\n",
      "           3       0.33      0.04      0.07        27\n",
      "\n",
      "    accuracy                           0.67       519\n",
      "   macro avg       0.35      0.29      0.28       519\n",
      "weighted avg       0.59      0.67      0.62       519\n",
      "\n"
     ]
    }
   ],
   "source": [
    "print(classification_report(y_test,y_pred1))"
   ]
  },
  {
   "cell_type": "markdown",
   "id": "cf73c62d",
   "metadata": {
    "papermill": {
     "duration": 0.018553,
     "end_time": "2023-06-13T13:08:38.026955",
     "exception": false,
     "start_time": "2023-06-13T13:08:38.008402",
     "status": "completed"
    },
    "tags": []
   },
   "source": [
    "**Random Forest**"
   ]
  },
  {
   "cell_type": "code",
   "execution_count": 21,
   "id": "14a3d793",
   "metadata": {
    "execution": {
     "iopub.execute_input": "2023-06-13T13:08:38.066680Z",
     "iopub.status.busy": "2023-06-13T13:08:38.065376Z",
     "iopub.status.idle": "2023-06-13T13:08:38.370522Z",
     "shell.execute_reply": "2023-06-13T13:08:38.369324Z"
    },
    "papermill": {
     "duration": 0.327999,
     "end_time": "2023-06-13T13:08:38.373331",
     "exception": false,
     "start_time": "2023-06-13T13:08:38.045332",
     "status": "completed"
    },
    "tags": []
   },
   "outputs": [],
   "source": [
    "from sklearn.ensemble import RandomForestClassifier\n",
    "rf = RandomForestClassifier(n_estimators=100)\n",
    "rf.fit(x_train,y_train)\n",
    "y_pred2 = rf.predict(x_test)"
   ]
  },
  {
   "cell_type": "code",
   "execution_count": 22,
   "id": "f05637ad",
   "metadata": {
    "execution": {
     "iopub.execute_input": "2023-06-13T13:08:38.412072Z",
     "iopub.status.busy": "2023-06-13T13:08:38.411648Z",
     "iopub.status.idle": "2023-06-13T13:08:38.770192Z",
     "shell.execute_reply": "2023-06-13T13:08:38.769309Z"
    },
    "papermill": {
     "duration": 0.380996,
     "end_time": "2023-06-13T13:08:38.772509",
     "exception": false,
     "start_time": "2023-06-13T13:08:38.391513",
     "status": "completed"
    },
    "tags": []
   },
   "outputs": [
    {
     "data": {
      "image/png": "[encoded data removed]",
      "text/plain": [
       "<Figure size 640x480 with 2 Axes>"
      ]
     },
     "metadata": {},
     "output_type": "display_data"
    }
   ],
   "source": [
    "plt.title('Random Forest Confusion Matrix')\n",
    "sns.heatmap(confusion_matrix(y_test,y_pred2),annot=True,fmt='g')\n",
    "plt.show()"
   ]
  },
  {
   "cell_type": "code",
   "execution_count": 23,
   "id": "323a4cb0",
   "metadata": {
    "execution": {
     "iopub.execute_input": "2023-06-13T13:08:38.812272Z",
     "iopub.status.busy": "2023-06-13T13:08:38.811807Z",
     "iopub.status.idle": "2023-06-13T13:08:38.820690Z",
     "shell.execute_reply": "2023-06-13T13:08:38.819272Z"
    },
    "papermill": {
     "duration": 0.031651,
     "end_time": "2023-06-13T13:08:38.823054",
     "exception": false,
     "start_time": "2023-06-13T13:08:38.791403",
     "status": "completed"
    },
    "tags": []
   },
   "outputs": [
    {
     "name": "stdout",
     "output_type": "stream",
     "text": [
      "Random Forest accuracy is : 96.15 %\n"
     ]
    }
   ],
   "source": [
    "print(f\"Random Forest accuracy is : {round(accuracy_score(y_test,y_pred2)*100,2)} %\")"
   ]
  },
  {
   "cell_type": "code",
   "execution_count": 24,
   "id": "7bbfea3d",
   "metadata": {
    "execution": {
     "iopub.execute_input": "2023-06-13T13:08:38.864848Z",
     "iopub.status.busy": "2023-06-13T13:08:38.863578Z",
     "iopub.status.idle": "2023-06-13T13:08:38.876927Z",
     "shell.execute_reply": "2023-06-13T13:08:38.876046Z"
    },
    "papermill": {
     "duration": 0.037421,
     "end_time": "2023-06-13T13:08:38.879339",
     "exception": false,
     "start_time": "2023-06-13T13:08:38.841918",
     "status": "completed"
    },
    "tags": []
   },
   "outputs": [
    {
     "name": "stdout",
     "output_type": "stream",
     "text": [
      "              precision    recall  f1-score   support\n",
      "\n",
      "           0       0.89      0.95      0.92       115\n",
      "           1       0.94      0.76      0.84        21\n",
      "           2       0.99      0.98      0.98       356\n",
      "           3       1.00      0.96      0.98        27\n",
      "\n",
      "    accuracy                           0.96       519\n",
      "   macro avg       0.95      0.91      0.93       519\n",
      "weighted avg       0.96      0.96      0.96       519\n",
      "\n"
     ]
    }
   ],
   "source": [
    "print(classification_report(y_test,y_pred2))"
   ]
  },
  {
   "cell_type": "markdown",
   "id": "07b9f02a",
   "metadata": {
    "papermill": {
     "duration": 0.019225,
     "end_time": "2023-06-13T13:08:38.918086",
     "exception": false,
     "start_time": "2023-06-13T13:08:38.898861",
     "status": "completed"
    },
    "tags": []
   },
   "source": [
    "**knn**"
   ]
  },
  {
   "cell_type": "code",
   "execution_count": 25,
   "id": "165a8a87",
   "metadata": {
    "execution": {
     "iopub.execute_input": "2023-06-13T13:08:38.959422Z",
     "iopub.status.busy": "2023-06-13T13:08:38.958837Z",
     "iopub.status.idle": "2023-06-13T13:08:38.991108Z",
     "shell.execute_reply": "2023-06-13T13:08:38.990225Z"
    },
    "papermill": {
     "duration": 0.056335,
     "end_time": "2023-06-13T13:08:38.993940",
     "exception": false,
     "start_time": "2023-06-13T13:08:38.937605",
     "status": "completed"
    },
    "tags": []
   },
   "outputs": [],
   "source": [
    "from sklearn.neighbors import KNeighborsClassifier\n",
    "knn=  KNeighborsClassifier(n_neighbors=1)\n",
    "knn.fit(x_train,y_train)\n",
    "y_pred3=knn.predict(x_test)"
   ]
  },
  {
   "cell_type": "code",
   "execution_count": 26,
   "id": "9f117a93",
   "metadata": {
    "execution": {
     "iopub.execute_input": "2023-06-13T13:08:39.038191Z",
     "iopub.status.busy": "2023-06-13T13:08:39.037582Z",
     "iopub.status.idle": "2023-06-13T13:08:39.391071Z",
     "shell.execute_reply": "2023-06-13T13:08:39.389761Z"
    },
    "papermill": {
     "duration": 0.377809,
     "end_time": "2023-06-13T13:08:39.394021",
     "exception": false,
     "start_time": "2023-06-13T13:08:39.016212",
     "status": "completed"
    },
    "tags": []
   },
   "outputs": [
    {
     "data": {
      "image/png": "[encoded data removed]",
      "text/plain": [
       "<Figure size 640x480 with 2 Axes>"
      ]
     },
     "metadata": {},
     "output_type": "display_data"
    }
   ],
   "source": [
    "plt.title('KNN Confusion Matrix')\n",
    "sns.heatmap(confusion_matrix(y_test,y_pred3),annot=True,fmt='g')\n",
    "plt.show()"
   ]
  },
  {
   "cell_type": "code",
   "execution_count": 27,
   "id": "e71fec91",
   "metadata": {
    "execution": {
     "iopub.execute_input": "2023-06-13T13:08:39.436792Z",
     "iopub.status.busy": "2023-06-13T13:08:39.436368Z",
     "iopub.status.idle": "2023-06-13T13:08:39.444617Z",
     "shell.execute_reply": "2023-06-13T13:08:39.443054Z"
    },
    "papermill": {
     "duration": 0.03223,
     "end_time": "2023-06-13T13:08:39.446927",
     "exception": false,
     "start_time": "2023-06-13T13:08:39.414697",
     "status": "completed"
    },
    "tags": []
   },
   "outputs": [
    {
     "name": "stdout",
     "output_type": "stream",
     "text": [
      "KNN accuracy is : 82.85 %\n"
     ]
    }
   ],
   "source": [
    "print(f\"KNN accuracy is : {round(accuracy_score(y_test,y_pred3)*100,2)} %\")"
   ]
  },
  {
   "cell_type": "code",
   "execution_count": 28,
   "id": "76254b45",
   "metadata": {
    "execution": {
     "iopub.execute_input": "2023-06-13T13:08:39.488326Z",
     "iopub.status.busy": "2023-06-13T13:08:39.487095Z",
     "iopub.status.idle": "2023-06-13T13:08:39.502003Z",
     "shell.execute_reply": "2023-06-13T13:08:39.500869Z"
    },
    "papermill": {
     "duration": 0.038407,
     "end_time": "2023-06-13T13:08:39.504661",
     "exception": false,
     "start_time": "2023-06-13T13:08:39.466254",
     "status": "completed"
    },
    "tags": []
   },
   "outputs": [
    {
     "name": "stdout",
     "output_type": "stream",
     "text": [
      "              precision    recall  f1-score   support\n",
      "\n",
      "           0       0.66      0.61      0.63       115\n",
      "           1       0.56      0.67      0.61        21\n",
      "           2       0.91      0.91      0.91       356\n",
      "           3       0.71      0.81      0.76        27\n",
      "\n",
      "    accuracy                           0.83       519\n",
      "   macro avg       0.71      0.75      0.73       519\n",
      "weighted avg       0.83      0.83      0.83       519\n",
      "\n"
     ]
    }
   ],
   "source": [
    "print(classification_report(y_test,y_pred3))"
   ]
  },
  {
   "cell_type": "markdown",
   "id": "de4ae11d",
   "metadata": {
    "papermill": {
     "duration": 0.019163,
     "end_time": "2023-06-13T13:08:39.543205",
     "exception": false,
     "start_time": "2023-06-13T13:08:39.524042",
     "status": "completed"
    },
    "tags": []
   },
   "source": [
    "**Navie Bayes**"
   ]
  },
  {
   "cell_type": "code",
   "execution_count": 29,
   "id": "1d93705b",
   "metadata": {
    "execution": {
     "iopub.execute_input": "2023-06-13T13:08:39.584424Z",
     "iopub.status.busy": "2023-06-13T13:08:39.583975Z",
     "iopub.status.idle": "2023-06-13T13:08:39.607097Z",
     "shell.execute_reply": "2023-06-13T13:08:39.605589Z"
    },
    "papermill": {
     "duration": 0.047353,
     "end_time": "2023-06-13T13:08:39.609939",
     "exception": false,
     "start_time": "2023-06-13T13:08:39.562586",
     "status": "completed"
    },
    "tags": []
   },
   "outputs": [],
   "source": [
    "from sklearn.naive_bayes import *\n",
    "nb=GaussianNB()\n",
    "nb.fit(x_train,y_train)\n",
    "y_pred4 = nb.predict(x_test)"
   ]
  },
  {
   "cell_type": "code",
   "execution_count": 30,
   "id": "8815ebf4",
   "metadata": {
    "execution": {
     "iopub.execute_input": "2023-06-13T13:08:39.652213Z",
     "iopub.status.busy": "2023-06-13T13:08:39.651707Z",
     "iopub.status.idle": "2023-06-13T13:08:40.008560Z",
     "shell.execute_reply": "2023-06-13T13:08:40.006761Z"
    },
    "papermill": {
     "duration": 0.382054,
     "end_time": "2023-06-13T13:08:40.012262",
     "exception": false,
     "start_time": "2023-06-13T13:08:39.630208",
     "status": "completed"
    },
    "tags": []
   },
   "outputs": [
    {
     "data": {
      "image/png": "[encoded data removed]",
      "text/plain": [
       "<Figure size 640x480 with 2 Axes>"
      ]
     },
     "metadata": {},
     "output_type": "display_data"
    }
   ],
   "source": [
    "plt.title('Naive Bayes Confusion Matrix')\n",
    "sns.heatmap(confusion_matrix(y_test,y_pred4),annot=True,fmt='g')\n",
    "plt.show()"
   ]
  },
  {
   "cell_type": "code",
   "execution_count": 31,
   "id": "9cf640dd",
   "metadata": {
    "execution": {
     "iopub.execute_input": "2023-06-13T13:08:40.056942Z",
     "iopub.status.busy": "2023-06-13T13:08:40.056453Z",
     "iopub.status.idle": "2023-06-13T13:08:40.065462Z",
     "shell.execute_reply": "2023-06-13T13:08:40.063752Z"
    },
    "papermill": {
     "duration": 0.034552,
     "end_time": "2023-06-13T13:08:40.068411",
     "exception": false,
     "start_time": "2023-06-13T13:08:40.033859",
     "status": "completed"
    },
    "tags": []
   },
   "outputs": [
    {
     "name": "stdout",
     "output_type": "stream",
     "text": [
      "Naive Bayes accuracy is : 63.97 %\n"
     ]
    }
   ],
   "source": [
    "print(f\"Naive Bayes accuracy is : {round(accuracy_score(y_test,y_pred4)*100,2)} %\")"
   ]
  },
  {
   "cell_type": "code",
   "execution_count": 32,
   "id": "d20cb616",
   "metadata": {
    "execution": {
     "iopub.execute_input": "2023-06-13T13:08:40.112776Z",
     "iopub.status.busy": "2023-06-13T13:08:40.112347Z",
     "iopub.status.idle": "2023-06-13T13:08:40.126042Z",
     "shell.execute_reply": "2023-06-13T13:08:40.125117Z"
    },
    "papermill": {
     "duration": 0.039618,
     "end_time": "2023-06-13T13:08:40.129280",
     "exception": false,
     "start_time": "2023-06-13T13:08:40.089662",
     "status": "completed"
    },
    "tags": []
   },
   "outputs": [
    {
     "name": "stdout",
     "output_type": "stream",
     "text": [
      "              precision    recall  f1-score   support\n",
      "\n",
      "           0       0.48      0.10      0.16       115\n",
      "           1       0.00      0.00      0.00        21\n",
      "           2       0.84      0.83      0.83       356\n",
      "           3       0.18      1.00      0.31        27\n",
      "\n",
      "    accuracy                           0.64       519\n",
      "   macro avg       0.38      0.48      0.33       519\n",
      "weighted avg       0.69      0.64      0.62       519\n",
      "\n"
     ]
    }
   ],
   "source": [
    "print(classification_report(y_test,y_pred4))"
   ]
  },
  {
   "cell_type": "markdown",
   "id": "4f97de90",
   "metadata": {
    "papermill": {
     "duration": 0.024349,
     "end_time": "2023-06-13T13:08:40.174446",
     "exception": false,
     "start_time": "2023-06-13T13:08:40.150097",
     "status": "completed"
    },
    "tags": []
   },
   "source": [
    "**SVM**"
   ]
  },
  {
   "cell_type": "code",
   "execution_count": 33,
   "id": "aa60089f",
   "metadata": {
    "execution": {
     "iopub.execute_input": "2023-06-13T13:08:40.218654Z",
     "iopub.status.busy": "2023-06-13T13:08:40.218166Z",
     "iopub.status.idle": "2023-06-13T13:08:40.224025Z",
     "shell.execute_reply": "2023-06-13T13:08:40.222551Z"
    },
    "papermill": {
     "duration": 0.030951,
     "end_time": "2023-06-13T13:08:40.226769",
     "exception": false,
     "start_time": "2023-06-13T13:08:40.195818",
     "status": "completed"
    },
    "tags": []
   },
   "outputs": [],
   "source": [
    "from sklearn.svm import SVC"
   ]
  },
  {
   "cell_type": "code",
   "execution_count": 34,
   "id": "d1f3effb",
   "metadata": {
    "execution": {
     "iopub.execute_input": "2023-06-13T13:08:40.271039Z",
     "iopub.status.busy": "2023-06-13T13:08:40.270593Z",
     "iopub.status.idle": "2023-06-13T13:08:40.346010Z",
     "shell.execute_reply": "2023-06-13T13:08:40.344736Z"
    },
    "papermill": {
     "duration": 0.101069,
     "end_time": "2023-06-13T13:08:40.348662",
     "exception": false,
     "start_time": "2023-06-13T13:08:40.247593",
     "status": "completed"
    },
    "tags": []
   },
   "outputs": [
    {
     "data": {
      "text/html": [
       "<style>#sk-container-id-1 {color: black;background-color: white;}#sk-container-id-1 pre{padding: 0;}#sk-container-id-1 div.sk-toggleable {background-color: white;}#sk-container-id-1 label.sk-toggleable__label {cursor: pointer;display: block;width: 100%;margin-bottom: 0;padding: 0.3em;box-sizing: border-box;text-align: center;}#sk-container-id-1 label.sk-toggleable__label-arrow:before {content: \"▸\";float: left;margin-right: 0.25em;color: #696969;}#sk-container-id-1 label.sk-toggleable__label-arrow:hover:before {color: black;}#sk-container-id-1 div.sk-estimator:hover label.sk-toggleable__label-arrow:before {color: black;}#sk-container-id-1 div.sk-toggleable__content {max-height: 0;max-width: 0;overflow: hidden;text-align: left;background-color: #f0f8ff;}#sk-container-id-1 div.sk-toggleable__content pre {margin: 0.2em;color: black;border-radius: 0.25em;background-color: #f0f8ff;}#sk-container-id-1 input.sk-toggleable__control:checked~div.sk-toggleable__content {max-height: 200px;max-width: 100%;overflow: auto;}#sk-container-id-1 input.sk-toggleable__control:checked~label.sk-toggleable__label-arrow:before {content: \"▾\";}#sk-container-id-1 div.sk-estimator input.sk-toggleable__control:checked~label.sk-toggleable__label {background-color: #d4ebff;}#sk-container-id-1 div.sk-label input.sk-toggleable__control:checked~label.sk-toggleable__label {background-color: #d4ebff;}#sk-container-id-1 input.sk-hidden--visually {border: 0;clip: rect(1px 1px 1px 1px);clip: rect(1px, 1px, 1px, 1px);height: 1px;margin: -1px;overflow: hidden;padding: 0;position: absolute;width: 1px;}#sk-container-id-1 div.sk-estimator {font-family: monospace;background-color: #f0f8ff;border: 1px dotted black;border-radius: 0.25em;box-sizing: border-box;margin-bottom: 0.5em;}#sk-container-id-1 div.sk-estimator:hover {background-color: #d4ebff;}#sk-container-id-1 div.sk-parallel-item::after {content: \"\";width: 100%;border-bottom: 1px solid gray;flex-grow: 1;}#sk-container-id-1 div.sk-label:hover label.sk-toggleable__label {background-color: #d4ebff;}#sk-container-id-1 div.sk-serial::before {content: \"\";position: absolute;border-left: 1px solid gray;box-sizing: border-box;top: 0;bottom: 0;left: 50%;z-index: 0;}#sk-container-id-1 div.sk-serial {display: flex;flex-direction: column;align-items: center;background-color: white;padding-right: 0.2em;padding-left: 0.2em;position: relative;}#sk-container-id-1 div.sk-item {position: relative;z-index: 1;}#sk-container-id-1 div.sk-parallel {display: flex;align-items: stretch;justify-content: center;background-color: white;position: relative;}#sk-container-id-1 div.sk-item::before, #sk-container-id-1 div.sk-parallel-item::before {content: \"\";position: absolute;border-left: 1px solid gray;box-sizing: border-box;top: 0;bottom: 0;left: 50%;z-index: -1;}#sk-container-id-1 div.sk-parallel-item {display: flex;flex-direction: column;z-index: 1;position: relative;background-color: white;}#sk-container-id-1 div.sk-parallel-item:first-child::after {align-self: flex-end;width: 50%;}#sk-container-id-1 div.sk-parallel-item:last-child::after {align-self: flex-start;width: 50%;}#sk-container-id-1 div.sk-parallel-item:only-child::after {width: 0;}#sk-container-id-1 div.sk-dashed-wrapped {border: 1px dashed gray;margin: 0 0.4em 0.5em 0.4em;box-sizing: border-box;padding-bottom: 0.4em;background-color: white;}#sk-container-id-1 div.sk-label label {font-family: monospace;font-weight: bold;display: inline-block;line-height: 1.2em;}#sk-container-id-1 div.sk-label-container {text-align: center;}#sk-container-id-1 div.sk-container {/* jupyter's `normalize.less` sets `[hidden] { display: none; }` but bootstrap.min.css set `[hidden] { display: none !important; }` so we also need the `!important` here to be able to override the default hidden behavior on the sphinx rendered scikit-learn.org. See: https://github.com/scikit-learn/scikit-learn/issues/21755 */display: inline-block !important;position: relative;}#sk-container-id-1 div.sk-text-repr-fallback {display: none;}</style><div id=\"sk-container-id-1\" class=\"sk-top-container\"><div class=\"sk-text-repr-fallback\"><pre>SVC(kernel=&#x27;linear&#x27;)</pre><b>In a Jupyter environment, please rerun this cell to show the HTML representation or trust the notebook. <br />On GitHub, the HTML representation is unable to render, please try loading this page with nbviewer.org.</b></div><div class=\"sk-container\" hidden><div class=\"sk-item\"><div class=\"sk-estimator sk-toggleable\"><input class=\"sk-toggleable__control sk-hidden--visually\" id=\"sk-estimator-id-1\" type=\"checkbox\" checked><label for=\"sk-estimator-id-1\" class=\"sk-toggleable__label sk-toggleable__label-arrow\">SVC</label><div class=\"sk-toggleable__content\"><pre>SVC(kernel=&#x27;linear&#x27;)</pre></div></div></div></div></div>"
      ],
      "text/plain": [
       "SVC(kernel='linear')"
      ]
     },
     "execution_count": 34,
     "metadata": {},
     "output_type": "execute_result"
    }
   ],
   "source": [
    "clf=SVC(kernel='linear',C=1.0)\n",
    "clf.fit(x,y)"
   ]
  },
  {
   "cell_type": "code",
   "execution_count": 35,
   "id": "8cee5077",
   "metadata": {
    "execution": {
     "iopub.execute_input": "2023-06-13T13:08:40.393348Z",
     "iopub.status.busy": "2023-06-13T13:08:40.392957Z",
     "iopub.status.idle": "2023-06-13T13:08:40.418757Z",
     "shell.execute_reply": "2023-06-13T13:08:40.417526Z"
    },
    "papermill": {
     "duration": 0.051353,
     "end_time": "2023-06-13T13:08:40.421249",
     "exception": false,
     "start_time": "2023-06-13T13:08:40.369896",
     "status": "completed"
    },
    "tags": []
   },
   "outputs": [
    {
     "data": {
      "text/plain": [
       "array([2, 0, 2, 2, 2, 0, 0, 2, 2, 0, 0, 2, 2, 2, 2, 2, 2, 2, 2, 2, 2, 2,\n",
       "       2, 2, 2, 2, 2, 2, 2, 2, 2, 2, 2, 2, 2, 2, 2, 2, 0, 2, 2, 2, 2, 2,\n",
       "       2, 2, 0, 2, 2, 2, 2, 2, 2, 2, 2, 2, 2, 2, 2, 2, 2, 0, 2, 2, 2, 2,\n",
       "       2, 2, 2, 2, 2, 2, 2, 2, 2, 2, 2, 2, 2, 0, 2, 0, 2, 2, 2, 0, 2, 2,\n",
       "       2, 2, 2, 2, 2, 2, 2, 2, 2, 2, 2, 2, 2, 2, 2, 2, 2, 2, 2, 2, 2, 2,\n",
       "       2, 2, 2, 2, 2, 2, 2, 2, 2, 2, 2, 2, 2, 2, 2, 2, 2, 2, 2, 2, 2, 2,\n",
       "       2, 2, 0, 2, 2, 2, 2, 2, 2, 2, 2, 2, 2, 2, 2, 2, 2, 2, 2, 0, 2, 2,\n",
       "       2, 2, 2, 2, 2, 2, 2, 2, 0, 2, 2, 2, 2, 2, 2, 2, 2, 2, 2, 2, 2, 2,\n",
       "       2, 2, 2, 2, 2, 2, 2, 2, 2, 0, 2, 2, 2, 2, 0, 2, 2, 2, 2, 2, 2, 2,\n",
       "       0, 2, 2, 2, 2, 2, 2, 2, 2, 2, 2, 2, 0, 2, 2, 2, 2, 2, 2, 2, 2, 0,\n",
       "       2, 2, 2, 2, 2, 2, 2, 2, 2, 2, 2, 2, 2, 2, 2, 2, 2, 2, 2, 2, 2, 2,\n",
       "       2, 2, 2, 2, 2, 2, 2, 2, 2, 2, 2, 2, 2, 2, 2, 2, 2, 0, 2, 2, 2, 2,\n",
       "       2, 2, 2, 2, 2, 2, 2, 2, 2, 2, 2, 2, 2, 2, 2, 2, 2, 2, 2, 2, 2, 2,\n",
       "       2, 2, 2, 2, 2, 2, 2, 2, 2, 2, 2, 2, 2, 2, 2, 2, 2, 2, 2, 2, 2, 2,\n",
       "       2, 2, 2, 2, 2, 2, 2, 2, 2, 2, 2, 2, 2, 2, 2, 2, 2, 2, 0, 0, 2, 2,\n",
       "       2, 2, 2, 2, 2, 2, 2, 2, 2, 0, 2, 2, 2, 2, 2, 2, 2, 2, 2, 2, 2, 2,\n",
       "       2, 0, 2, 2, 2, 2, 2, 2, 2, 2, 2, 2, 2, 2, 2, 2, 2, 2, 2, 2, 0, 2,\n",
       "       2, 2, 2, 2, 2, 2, 2, 0, 2, 2, 0, 2, 2, 2, 2, 2, 2, 2, 2, 2, 2, 2,\n",
       "       2, 2, 0, 2, 2, 2, 2, 2, 2, 2, 0, 2, 2, 2, 2, 2, 2, 0, 2, 2, 2, 2,\n",
       "       2, 2, 0, 2, 2, 2, 2, 2, 2, 2, 2, 2, 2, 2, 2, 2, 2, 2, 2, 2, 2, 2,\n",
       "       2, 2, 2, 2, 2, 2, 2, 2, 2, 2, 2, 2, 2, 2, 2, 2, 0, 2, 2, 2, 2, 2,\n",
       "       2, 2, 0, 2, 2, 2, 2, 2, 2, 0, 2, 2, 2, 2, 2, 2, 2, 2, 2, 2, 2, 2,\n",
       "       2, 2, 2, 2, 0, 2, 2, 2, 2, 2, 2, 2, 2, 2, 2, 2, 2, 2, 2, 2, 2, 2,\n",
       "       2, 2, 0, 2, 2, 2, 2, 2, 2, 2, 2, 2, 2])"
      ]
     },
     "execution_count": 35,
     "metadata": {},
     "output_type": "execute_result"
    }
   ],
   "source": [
    "y_pred5=clf.predict(x_test)\n",
    "y_pred5"
   ]
  },
  {
   "cell_type": "code",
   "execution_count": 36,
   "id": "c2f99bf1",
   "metadata": {
    "execution": {
     "iopub.execute_input": "2023-06-13T13:08:40.465293Z",
     "iopub.status.busy": "2023-06-13T13:08:40.464849Z",
     "iopub.status.idle": "2023-06-13T13:08:40.471285Z",
     "shell.execute_reply": "2023-06-13T13:08:40.470071Z"
    },
    "papermill": {
     "duration": 0.03156,
     "end_time": "2023-06-13T13:08:40.473690",
     "exception": false,
     "start_time": "2023-06-13T13:08:40.442130",
     "status": "completed"
    },
    "tags": []
   },
   "outputs": [],
   "source": [
    "frame={'Predict': y_pred5,'Real': y_test}\n",
    "df_clf=pd.DataFrame(frame)"
   ]
  },
  {
   "cell_type": "code",
   "execution_count": 37,
   "id": "3c9ef5ed",
   "metadata": {
    "execution": {
     "iopub.execute_input": "2023-06-13T13:08:40.517452Z",
     "iopub.status.busy": "2023-06-13T13:08:40.516998Z",
     "iopub.status.idle": "2023-06-13T13:08:41.135914Z",
     "shell.execute_reply": "2023-06-13T13:08:41.134401Z"
    },
    "papermill": {
     "duration": 0.64434,
     "end_time": "2023-06-13T13:08:41.138709",
     "exception": false,
     "start_time": "2023-06-13T13:08:40.494369",
     "status": "completed"
    },
    "tags": []
   },
   "outputs": [
    {
     "data": {
      "image/png": "[encoded data removed]",
      "text/plain": [
       "<Figure size 640x480 with 2 Axes>"
      ]
     },
     "metadata": {},
     "output_type": "display_data"
    }
   ],
   "source": [
    "plt.title('SVMConfusion Matrix')\n",
    "sns.heatmap(confusion_matrix(y_test,y_pred5),annot=True,fmt='g')\n",
    "plt.show()"
   ]
  },
  {
   "cell_type": "code",
   "execution_count": 38,
   "id": "fa9a8d30",
   "metadata": {
    "execution": {
     "iopub.execute_input": "2023-06-13T13:08:41.185073Z",
     "iopub.status.busy": "2023-06-13T13:08:41.184571Z",
     "iopub.status.idle": "2023-06-13T13:08:41.192202Z",
     "shell.execute_reply": "2023-06-13T13:08:41.191263Z"
    },
    "papermill": {
     "duration": 0.03364,
     "end_time": "2023-06-13T13:08:41.194416",
     "exception": false,
     "start_time": "2023-06-13T13:08:41.160776",
     "status": "completed"
    },
    "tags": []
   },
   "outputs": [
    {
     "name": "stdout",
     "output_type": "stream",
     "text": [
      "svm is : 71.68 %\n"
     ]
    }
   ],
   "source": [
    "#accuracy_score(y_pred,y_test)\n",
    "print(f\"svm is : {round(accuracy_score(y_test,y_pred5)*100,2)} %\")"
   ]
  },
  {
   "cell_type": "code",
   "execution_count": 39,
   "id": "3104f1d0",
   "metadata": {
    "execution": {
     "iopub.execute_input": "2023-06-13T13:08:41.239353Z",
     "iopub.status.busy": "2023-06-13T13:08:41.238905Z",
     "iopub.status.idle": "2023-06-13T13:08:41.253005Z",
     "shell.execute_reply": "2023-06-13T13:08:41.251978Z"
    },
    "papermill": {
     "duration": 0.039838,
     "end_time": "2023-06-13T13:08:41.255505",
     "exception": false,
     "start_time": "2023-06-13T13:08:41.215667",
     "status": "completed"
    },
    "tags": []
   },
   "outputs": [
    {
     "name": "stdout",
     "output_type": "stream",
     "text": [
      "              precision    recall  f1-score   support\n",
      "\n",
      "           0       0.53      0.17      0.25       115\n",
      "           1       0.00      0.00      0.00        21\n",
      "           2       0.73      0.99      0.84       356\n",
      "           3       0.00      0.00      0.00        27\n",
      "\n",
      "    accuracy                           0.72       519\n",
      "   macro avg       0.31      0.29      0.27       519\n",
      "weighted avg       0.62      0.72      0.63       519\n",
      "\n"
     ]
    }
   ],
   "source": [
    "print(classification_report(y_test,y_pred5))"
   ]
  },
  {
   "cell_type": "code",
   "execution_count": 40,
   "id": "cdc62c7b",
   "metadata": {
    "execution": {
     "iopub.execute_input": "2023-06-13T13:08:41.301521Z",
     "iopub.status.busy": "2023-06-13T13:08:41.300964Z",
     "iopub.status.idle": "2023-06-13T13:08:41.316591Z",
     "shell.execute_reply": "2023-06-13T13:08:41.315326Z"
    },
    "papermill": {
     "duration": 0.04148,
     "end_time": "2023-06-13T13:08:41.318989",
     "exception": false,
     "start_time": "2023-06-13T13:08:41.277509",
     "status": "completed"
    },
    "tags": []
   },
   "outputs": [
    {
     "data": {
      "text/plain": [
       "[66.86, 96.15, 82.85, 63.97, 71.68]"
      ]
     },
     "execution_count": 40,
     "metadata": {},
     "output_type": "execute_result"
    }
   ],
   "source": [
    "Accuracy = [round(accuracy_score(y_test,y_pred1)*100,2),round(accuracy_score(y_test,y_pred2)*100,2),\n",
    "           round(accuracy_score(y_test,y_pred3)*100,2),round(accuracy_score(y_test,y_pred4)*100,2),\n",
    "           round(accuracy_score(y_test,y_pred5)*100,2)]\n",
    "\n",
    "Accuracy"
   ]
  },
  {
   "cell_type": "code",
   "execution_count": 41,
   "id": "f4e00c3c",
   "metadata": {
    "execution": {
     "iopub.execute_input": "2023-06-13T13:08:41.364849Z",
     "iopub.status.busy": "2023-06-13T13:08:41.364339Z",
     "iopub.status.idle": "2023-06-13T13:08:41.376172Z",
     "shell.execute_reply": "2023-06-13T13:08:41.375010Z"
    },
    "papermill": {
     "duration": 0.037967,
     "end_time": "2023-06-13T13:08:41.378411",
     "exception": false,
     "start_time": "2023-06-13T13:08:41.340444",
     "status": "completed"
    },
    "tags": []
   },
   "outputs": [
    {
     "data": {
      "text/html": [
       "<div>\n",
       "<style scoped>\n",
       "    .dataframe tbody tr th:only-of-type {\n",
       "        vertical-align: middle;\n",
       "    }\n",
       "\n",
       "    .dataframe tbody tr th {\n",
       "        vertical-align: top;\n",
       "    }\n",
       "\n",
       "    .dataframe thead th {\n",
       "        text-align: right;\n",
       "    }\n",
       "</style>\n",
       "<table border=\"1\" class=\"dataframe\">\n",
       "  <thead>\n",
       "    <tr style=\"text-align: right;\">\n",
       "      <th></th>\n",
       "      <th>Predict</th>\n",
       "      <th>Real</th>\n",
       "    </tr>\n",
       "  </thead>\n",
       "  <tbody>\n",
       "    <tr>\n",
       "      <th>1636</th>\n",
       "      <td>2</td>\n",
       "      <td>3</td>\n",
       "    </tr>\n",
       "    <tr>\n",
       "      <th>490</th>\n",
       "      <td>2</td>\n",
       "      <td>2</td>\n",
       "    </tr>\n",
       "    <tr>\n",
       "      <th>1108</th>\n",
       "      <td>2</td>\n",
       "      <td>2</td>\n",
       "    </tr>\n",
       "    <tr>\n",
       "      <th>491</th>\n",
       "      <td>2</td>\n",
       "      <td>2</td>\n",
       "    </tr>\n",
       "    <tr>\n",
       "      <th>422</th>\n",
       "      <td>2</td>\n",
       "      <td>2</td>\n",
       "    </tr>\n",
       "  </tbody>\n",
       "</table>\n",
       "</div>"
      ],
      "text/plain": [
       "      Predict  Real\n",
       "1636        2     3\n",
       "490         2     2\n",
       "1108        2     2\n",
       "491         2     2\n",
       "422         2     2"
      ]
     },
     "execution_count": 41,
     "metadata": {},
     "output_type": "execute_result"
    }
   ],
   "source": [
    "df_clf.tail()"
   ]
  },
  {
   "cell_type": "code",
   "execution_count": 42,
   "id": "a8a95edc",
   "metadata": {
    "execution": {
     "iopub.execute_input": "2023-06-13T13:08:41.424926Z",
     "iopub.status.busy": "2023-06-13T13:08:41.424393Z",
     "iopub.status.idle": "2023-06-13T13:08:41.430403Z",
     "shell.execute_reply": "2023-06-13T13:08:41.429179Z"
    },
    "papermill": {
     "duration": 0.032555,
     "end_time": "2023-06-13T13:08:41.432812",
     "exception": false,
     "start_time": "2023-06-13T13:08:41.400257",
     "status": "completed"
    },
    "tags": []
   },
   "outputs": [],
   "source": [
    "l = ['Logistic Regression','Random Forest','KNN','Naive Bayes','svm']"
   ]
  },
  {
   "cell_type": "code",
   "execution_count": 43,
   "id": "90ae12bd",
   "metadata": {
    "execution": {
     "iopub.execute_input": "2023-06-13T13:08:41.479524Z",
     "iopub.status.busy": "2023-06-13T13:08:41.479033Z",
     "iopub.status.idle": "2023-06-13T13:08:41.696759Z",
     "shell.execute_reply": "2023-06-13T13:08:41.694790Z"
    },
    "papermill": {
     "duration": 0.247234,
     "end_time": "2023-06-13T13:08:41.702334",
     "exception": false,
     "start_time": "2023-06-13T13:08:41.455100",
     "status": "completed"
    },
    "tags": []
   },
   "outputs": [
    {
     "data": {
      "image/png": "[encoded data removed]",
      "text/plain": [
       "<Figure size 640x480 with 1 Axes>"
      ]
     },
     "metadata": {},
     "output_type": "display_data"
    }
   ],
   "source": [
    "plt.pie(Accuracy,labels=l,shadow=True,autopct='%1.2f%%')\n",
    "plt.show()"
   ]
  },
  {
   "cell_type": "code",
   "execution_count": 44,
   "id": "8b315090",
   "metadata": {
    "execution": {
     "iopub.execute_input": "2023-06-13T13:08:41.765954Z",
     "iopub.status.busy": "2023-06-13T13:08:41.765584Z",
     "iopub.status.idle": "2023-06-13T13:08:42.056185Z",
     "shell.execute_reply": "2023-06-13T13:08:42.054807Z"
    },
    "papermill": {
     "duration": 0.317508,
     "end_time": "2023-06-13T13:08:42.059072",
     "exception": false,
     "start_time": "2023-06-13T13:08:41.741564",
     "status": "completed"
    },
    "tags": []
   },
   "outputs": [
    {
     "data": {
      "text/plain": [
       "<Axes: >"
      ]
     },
     "execution_count": 44,
     "metadata": {},
     "output_type": "execute_result"
    },
    {
     "data": {
      "image/png": "[encoded data removed]",
      "text/plain": [
       "<Figure size 800x700 with 1 Axes>"
      ]
     },
     "metadata": {},
     "output_type": "display_data"
    }
   ],
   "source": [
    "plt.figure(figsize=(8,7))\n",
    "sns.barplot(x = l,y=Accuracy)"
   ]
  },
  {
   "cell_type": "code",
   "execution_count": null,
   "id": "cad996ab",
   "metadata": {
    "papermill": {
     "duration": 0.0226,
     "end_time": "2023-06-13T13:08:42.104653",
     "exception": false,
     "start_time": "2023-06-13T13:08:42.082053",
     "status": "completed"
    },
    "tags": []
   },
   "outputs": [],
   "source": []
  },
  {
   "cell_type": "code",
   "execution_count": null,
   "id": "5c0dce4e",
   "metadata": {
    "papermill": {
     "duration": 0.022573,
     "end_time": "2023-06-13T13:08:42.150575",
     "exception": false,
     "start_time": "2023-06-13T13:08:42.128002",
     "status": "completed"
    },
    "tags": []
   },
   "outputs": [],
   "source": []
  },
  {
   "cell_type": "code",
   "execution_count": null,
   "id": "13b1a69b",
   "metadata": {
    "papermill": {
     "duration": 0.022411,
     "end_time": "2023-06-13T13:08:42.197503",
     "exception": false,
     "start_time": "2023-06-13T13:08:42.175092",
     "status": "completed"
    },
    "tags": []
   },
   "outputs": [],
   "source": []
  }
 ],
 "metadata": {
  "kernelspec": {
   "display_name": "Python 3",
   "language": "python",
   "name": "python3"
  },
  "language_info": {
   "codemirror_mode": {
    "name": "ipython",
    "version": 3
   },
   "file_extension": ".py",
   "mimetype": "text/x-python",
   "name": "python",
   "nbconvert_exporter": "python",
   "pygments_lexer": "ipython3",
   "version": "3.10.10"
  },
  "papermill": {
   "default_parameters": {},
   "duration": 22.103994,
   "end_time": "2023-06-13T13:08:43.645368",
   "environment_variables": {},
   "exception": null,
   "input_path": "__notebook__.ipynb",
   "output_path": "__notebook__.ipynb",
   "parameters": {},
   "start_time": "2023-06-13T13:08:21.541374",
   "version": "2.4.0"
  }
 },
 "nbformat": 4,
 "nbformat_minor": 5
}
